{
 "cells": [
  {
   "cell_type": "markdown",
   "id": "a43fa3eb-44ac-49d7-8a8f-1aa1f13bec72",
   "metadata": {},
   "source": [
    "First we import the required libraries, numpy for calculational stuff, pandas for dataset, matplotlib for plotting.\n",
    "Then import the dataset, and take an overview of it."
   ]
  },
  {
   "cell_type": "code",
   "execution_count": 1,
   "id": "d090a8c7-32b3-4f05-9ffc-a279cba16c19",
   "metadata": {},
   "outputs": [],
   "source": [
    "import numpy as np\n",
    "import pandas as pd\n",
    "import matplotlib.pyplot as plt"
   ]
  },
  {
   "cell_type": "code",
   "execution_count": 2,
   "id": "f118f84d-4fb1-4e1f-81d8-951ac0066e14",
   "metadata": {},
   "outputs": [
    {
     "data": {
      "text/html": [
       "<div>\n",
       "<style scoped>\n",
       "    .dataframe tbody tr th:only-of-type {\n",
       "        vertical-align: middle;\n",
       "    }\n",
       "\n",
       "    .dataframe tbody tr th {\n",
       "        vertical-align: top;\n",
       "    }\n",
       "\n",
       "    .dataframe thead th {\n",
       "        text-align: right;\n",
       "    }\n",
       "</style>\n",
       "<table border=\"1\" class=\"dataframe\">\n",
       "  <thead>\n",
       "    <tr style=\"text-align: right;\">\n",
       "      <th></th>\n",
       "      <th>song_id</th>\n",
       "      <th>keyword_1</th>\n",
       "      <th>keyword_2</th>\n",
       "      <th>keyword_3</th>\n",
       "      <th>genre</th>\n",
       "    </tr>\n",
       "  </thead>\n",
       "  <tbody>\n",
       "    <tr>\n",
       "      <th>0</th>\n",
       "      <td>74</td>\n",
       "      <td>guitar</td>\n",
       "      <td>happy</td>\n",
       "      <td>distorted</td>\n",
       "      <td>rock</td>\n",
       "    </tr>\n",
       "    <tr>\n",
       "      <th>1</th>\n",
       "      <td>103</td>\n",
       "      <td>brass</td>\n",
       "      <td>energetic</td>\n",
       "      <td>melodic</td>\n",
       "      <td>classical</td>\n",
       "    </tr>\n",
       "    <tr>\n",
       "      <th>2</th>\n",
       "      <td>201</td>\n",
       "      <td>banjo</td>\n",
       "      <td>happy</td>\n",
       "      <td>acoustic</td>\n",
       "      <td>country</td>\n",
       "    </tr>\n",
       "    <tr>\n",
       "      <th>3</th>\n",
       "      <td>194</td>\n",
       "      <td>synth</td>\n",
       "      <td>energetic</td>\n",
       "      <td>heavy</td>\n",
       "      <td>hip-hop</td>\n",
       "    </tr>\n",
       "    <tr>\n",
       "      <th>4</th>\n",
       "      <td>184</td>\n",
       "      <td>synth</td>\n",
       "      <td>energetic</td>\n",
       "      <td>slow</td>\n",
       "      <td>hip-hop</td>\n",
       "    </tr>\n",
       "    <tr>\n",
       "      <th>...</th>\n",
       "      <td>...</td>\n",
       "      <td>...</td>\n",
       "      <td>...</td>\n",
       "      <td>...</td>\n",
       "      <td>...</td>\n",
       "    </tr>\n",
       "    <tr>\n",
       "      <th>142</th>\n",
       "      <td>195</td>\n",
       "      <td>synth</td>\n",
       "      <td>angry</td>\n",
       "      <td>melodic</td>\n",
       "      <td>hip-hop</td>\n",
       "    </tr>\n",
       "    <tr>\n",
       "      <th>143</th>\n",
       "      <td>7</td>\n",
       "      <td>guitar</td>\n",
       "      <td>energetic</td>\n",
       "      <td>fast</td>\n",
       "      <td>pop</td>\n",
       "    </tr>\n",
       "    <tr>\n",
       "      <th>144</th>\n",
       "      <td>14</td>\n",
       "      <td>guitar</td>\n",
       "      <td>happy</td>\n",
       "      <td>rhythmic</td>\n",
       "      <td>pop</td>\n",
       "    </tr>\n",
       "    <tr>\n",
       "      <th>145</th>\n",
       "      <td>36</td>\n",
       "      <td>synth</td>\n",
       "      <td>mellow</td>\n",
       "      <td>danceable</td>\n",
       "      <td>pop</td>\n",
       "    </tr>\n",
       "    <tr>\n",
       "      <th>146</th>\n",
       "      <td>29</td>\n",
       "      <td>synth</td>\n",
       "      <td>emotional</td>\n",
       "      <td>slow</td>\n",
       "      <td>pop</td>\n",
       "    </tr>\n",
       "  </tbody>\n",
       "</table>\n",
       "<p>147 rows × 5 columns</p>\n",
       "</div>"
      ],
      "text/plain": [
       "     song_id keyword_1  keyword_2  keyword_3      genre\n",
       "0         74    guitar      happy  distorted       rock\n",
       "1        103     brass  energetic    melodic  classical\n",
       "2        201     banjo      happy   acoustic    country\n",
       "3        194     synth  energetic      heavy    hip-hop\n",
       "4        184     synth  energetic       slow    hip-hop\n",
       "..       ...       ...        ...        ...        ...\n",
       "142      195     synth      angry    melodic    hip-hop\n",
       "143        7    guitar  energetic       fast        pop\n",
       "144       14    guitar      happy   rhythmic        pop\n",
       "145       36     synth     mellow  danceable        pop\n",
       "146       29     synth  emotional       slow        pop\n",
       "\n",
       "[147 rows x 5 columns]"
      ]
     },
     "execution_count": 2,
     "metadata": {},
     "output_type": "execute_result"
    }
   ],
   "source": [
    "#here path is the same folder as this notebook\n",
    "path=\"Task2_dataset.csv\"\n",
    "df=pd.read_csv(path)\n",
    "df"
   ]
  },
  {
   "cell_type": "markdown",
   "id": "b110fc1f-16e3-4c35-bc10-98c37681a3f3",
   "metadata": {},
   "source": [
    "Overview of the arrays made and used ahead:\n",
    "sentences= an array whose each element itself is an array containing the value keyword_1, keyword_2, keyword_3 for each song.\n",
    "true_genres= array containing the labels for actual genres for each song - we require this later to calculate confusion matrix\n",
    "\n",
    "word_set= it is like a vocab, it contains all the unique words(from keyword 1,2,3) in the dataset.\n",
    "index_dict= this is a dictionary which maps each word in the word_set to a number (index), this would be used for BoW and Tf-Idf matrix calculations"
   ]
  },
  {
   "cell_type": "code",
   "execution_count": 3,
   "id": "69fbf9c6-1e6e-44c6-a6ce-04f61ee133fc",
   "metadata": {},
   "outputs": [],
   "source": [
    "k1 = df['keyword_1'].to_numpy()\n",
    "k2=df['keyword_2'].to_numpy()\n",
    "k3= df['keyword_3'].to_numpy()\n",
    "true_genres=df['genre'].to_numpy()"
   ]
  },
  {
   "cell_type": "code",
   "execution_count": 35,
   "id": "f8c944fa-0981-4115-bca1-81d5d9359d8a",
   "metadata": {},
   "outputs": [
    {
     "name": "stdout",
     "output_type": "stream",
     "text": [
      "Vocab keyword 1: {'violin', 'piano', 'guitar', 'synth', 'banjo', 'brass'}, Size of vocab: 6\n",
      "Vocab keyword 2: {'mellow', 'nostalgic', 'upbeat', 'happy', 'energetic', 'sad', 'calm', 'angry', 'emotional'},Size of vocab: 9\n",
      "Vocab keyword 3: {'fast', 'melodic', 'heavy', 'acoustic', 'slow', 'distorted', 'rhythmic', 'twangy', 'upbeat', 'danceable'}, Size of vocab: 10\n"
     ]
    }
   ],
   "source": [
    "print(f\"Vocab keyword 1: {set(k1)}, Size of vocab: {len(set(k1))}\")\n",
    "print(f\"Vocab keyword 2: {set(k2)},Size of vocab: {len(set(k2))}\")\n",
    "print(f\"Vocab keyword 3: {set(k3)}, Size of vocab: {len(set(k3))}\")"
   ]
  },
  {
   "cell_type": "code",
   "execution_count": 4,
   "id": "59ed03d5-02fe-417e-a1cf-740bbca44ba3",
   "metadata": {},
   "outputs": [],
   "source": [
    "def create_index_dict(keywords):\n",
    "    word_set = set(keywords)\n",
    "    index_dict = {word: i for i, word in enumerate(word_set)}\n",
    "    return index_dict, word_set"
   ]
  },
  {
   "cell_type": "code",
   "execution_count": 5,
   "id": "65ba8ea7-57ba-44de-9342-7be95a858f16",
   "metadata": {},
   "outputs": [],
   "source": [
    "index_dict = []\n",
    "word_set = []\n",
    "\n",
    "for keywords in [k1, k2, k3]:\n",
    "    idx_dict, w_set = create_index_dict(keywords)\n",
    "    index_dict.append(idx_dict)\n",
    "    word_set.append(w_set)"
   ]
  },
  {
   "cell_type": "markdown",
   "id": "0fa6d709-3030-4bfe-8642-facab4e99ee7",
   "metadata": {},
   "source": [
    "BoW Matrix: "
   ]
  },
  {
   "cell_type": "code",
   "execution_count": 6,
   "id": "e902913d-b657-4138-8485-bd03c3f62f21",
   "metadata": {},
   "outputs": [],
   "source": [
    "def create_bow_matrix(keywords, word_set, index_dict):\n",
    "    bow_matrix = np.zeros((len(keywords), len(word_set)), dtype=int)\n",
    "    for i, word in enumerate(keywords):\n",
    "        bow_matrix[i, index_dict[word]] += 1\n",
    "    return bow_matrix"
   ]
  },
  {
   "cell_type": "code",
   "execution_count": 36,
   "id": "1bab3932-8b99-4531-b365-50c868863d9f",
   "metadata": {},
   "outputs": [
    {
     "name": "stdout",
     "output_type": "stream",
     "text": [
      "[[0 0 1 0 0 0]\n",
      " [0 0 0 0 0 1]\n",
      " [0 0 0 0 1 0]\n",
      " [0 0 0 1 0 0]\n",
      " [0 0 0 1 0 0]]\n"
     ]
    }
   ],
   "source": [
    "bow_matrix_k1=create_bow_matrix(k1,word_set[0], index_dict[0])\n",
    "bow_matrix_k2=create_bow_matrix(k2,word_set[1], index_dict[1])\n",
    "bow_matrix_k3=create_bow_matrix(k3,word_set[2], index_dict[2])\n",
    "print(bow_matrix_k1[:5])"
   ]
  },
  {
   "cell_type": "markdown",
   "id": "581eda88-4b0a-49aa-9109-72d42558699b",
   "metadata": {},
   "source": [
    "Tf_Idf Matrix:"
   ]
  },
  {
   "cell_type": "code",
   "execution_count": 8,
   "id": "15c67098-31b1-4ce7-9666-f6ee77b152c7",
   "metadata": {},
   "outputs": [],
   "source": [
    "def count_dict(keywords, word_set):\n",
    "    word_count = {}\n",
    "    for word in word_set:\n",
    "        word_count[word] = 0\n",
    "        for keyword in keywords:\n",
    "            if word in keyword:\n",
    "                word_count[word] += 1\n",
    "    return word_count\n",
    " \n",
    "word_count_k1 = count_dict(k1, word_set[0])\n",
    "word_count_k2 = count_dict(k2, word_set[1])\n",
    "word_count_k3 = count_dict(k3, word_set[2])"
   ]
  },
  {
   "cell_type": "code",
   "execution_count": 9,
   "id": "4fb8e4f0-02c9-4fb4-b676-a8d4d6ad5e90",
   "metadata": {},
   "outputs": [],
   "source": [
    "def termfreq(keywords, word):\n",
    "    N = len(keywords)\n",
    "    occurance = len([x for x in keywords if x == word])\n",
    "    return occurance/N\n",
    "def inverse_doc_freq(keywords, word, word_count):\n",
    "    try:\n",
    "        word_occurance = word_count[word] + 1\n",
    "    except:\n",
    "        word_occurance = 1\n",
    "    return np.log(len(keywords)/word_occurance)\n",
    "def tf_idf(keywords, word_set, index_dict):\n",
    "    tf_idf_arr = np.zeros((len(word_set),))\n",
    "    for word in keywords:\n",
    "        tf = termfreq(keywords,word)\n",
    "        idf = inverse_doc_freq(keywords, word, word_set)\n",
    "         \n",
    "        value = tf*idf\n",
    "        tf_idf_arr[index_dict[word]] = value \n",
    "    return tf_idf_arr"
   ]
  },
  {
   "cell_type": "code",
   "execution_count": 10,
   "id": "d6eeb924-b8fe-44bb-aee1-e0be4106ae29",
   "metadata": {},
   "outputs": [],
   "source": [
    "def create_tf_idf_matrix(keywords, word_set, index_dict):\n",
    "    return [tf_idf(keywords, word_set, index_dict) for _ in keywords]"
   ]
  },
  {
   "cell_type": "code",
   "execution_count": 11,
   "id": "e4b0bc72-1a99-4eed-a0f1-00ebbf6568b6",
   "metadata": {},
   "outputs": [
    {
     "name": "stdout",
     "output_type": "stream",
     "text": [
      "[array([0.33948521, 0.40738225, 2.20665386, 1.4597864 , 0.20369113,\n",
      "       0.37343373]), array([0.33948521, 0.40738225, 2.20665386, 1.4597864 , 0.20369113,\n",
      "       0.37343373]), array([0.33948521, 0.40738225, 2.20665386, 1.4597864 , 0.20369113,\n",
      "       0.37343373]), array([0.33948521, 0.40738225, 2.20665386, 1.4597864 , 0.20369113,\n",
      "       0.37343373]), array([0.33948521, 0.40738225, 2.20665386, 1.4597864 , 0.20369113,\n",
      "       0.37343373])]\n"
     ]
    }
   ],
   "source": [
    "tf_idf_k1=create_tf_idf_matrix(k1, word_set[0], index_dict[0])\n",
    "tf_idf_k2=create_tf_idf_matrix(k2, word_set[1], index_dict[1])\n",
    "tf_idf_k3=create_tf_idf_matrix(k3, word_set[2], index_dict[2])\n",
    "print(tf_idf_k1[:5])"
   ]
  },
  {
   "cell_type": "markdown",
   "id": "3c75f662-fcbf-4061-9ba4-d9f541c3b06a",
   "metadata": {},
   "source": [
    "PCA: "
   ]
  },
  {
   "cell_type": "code",
   "execution_count": 12,
   "id": "28d0f63b-6279-43d6-9ebd-3f4bd8e17ba0",
   "metadata": {},
   "outputs": [],
   "source": [
    "def pca(X, n_components=2):\n",
    "    X_mean = np.mean(X, axis=0)\n",
    "    X_centered = X - X_mean\n",
    "    covariance_matrix = np.cov(X_centered, rowvar=False)\n",
    "    eigenvalues, eigentf_idf_arr = np.linalg.eig(covariance_matrix)\n",
    "    sorted_indices = np.argsort(eigenvalues)[::-1]\n",
    "    eigentf_idf_arr = eigentf_idf_arr[:, sorted_indices]\n",
    "    principal_components = eigentf_idf_arr[:, :n_components]\n",
    "    X_reduced = np.dot(X_centered, principal_components)\n",
    "    \n",
    "    return X_reduced"
   ]
  },
  {
   "cell_type": "code",
   "execution_count": 13,
   "id": "30e61eeb-1d45-41cd-8fa7-dcf62ac60887",
   "metadata": {},
   "outputs": [],
   "source": [
    "red_bow_k1=pca(bow_matrix_k1)\n",
    "red_bow_k2=pca(bow_matrix_k2)\n",
    "red_bow_k3=pca(bow_matrix_k3)"
   ]
  },
  {
   "cell_type": "markdown",
   "id": "1ad297c7-c62a-4e7b-ad6c-43e898c38194",
   "metadata": {},
   "source": [
    "Combine embeddings: "
   ]
  },
  {
   "cell_type": "code",
   "execution_count": 105,
   "id": "0d63e8be-dcf0-49e6-9c60-78e3554bffa5",
   "metadata": {},
   "outputs": [
    {
     "name": "stdout",
     "output_type": "stream",
     "text": [
      "\n",
      "Final Combined 2D Embeddings:\n",
      " [[ 0.21936541 -0.27755328]\n",
      " [-0.61019172  0.22867455]\n",
      " [ 0.40343768  0.46059652]\n",
      " [ 0.26171187 -0.49384146]\n",
      " [ 0.20038157 -0.58683021]\n",
      " [ 0.35966962  0.3143056 ]\n",
      " [-0.34329177  0.14336564]\n",
      " [ 0.22354655 -0.26864375]\n",
      " [ 0.26867623 -0.21702107]]\n"
     ]
    }
   ],
   "source": [
    "def cosine_similarity(A, B):\n",
    "    \"\"\"Compute cosine similarity row-wise for 2D matrices A and B.\"\"\"\n",
    "    dot_product = np.sum(A * B, axis=1)  # Element-wise multiplication and sum along axis 1\n",
    "    norm_A = np.linalg.norm(A, axis=1)  # Compute row-wise norms\n",
    "    norm_B = np.linalg.norm(B, axis=1)\n",
    "    return dot_product / (norm_A * norm_B + 1e-10)  # Avoid division by zero\n",
    "\n",
    "def combine_embeddings_2(red_bow, red_tf_idf, red_custom, method=\"average\"):\n",
    "    if method == \"average\":\n",
    "        combined_embedding = (red_bow + red_tf_idf + red_custom) / 3\n",
    "    elif method == \"mult\":\n",
    "        combined_embedding = red_bow * red_tf_idf * red_custom\n",
    "    elif method == \"cos\":\n",
    "        cos1 = cosine_similarity(red_bow, red_tf_idf)  # Shape (147,)\n",
    "        cos2 = cosine_similarity(red_tf_idf, red_custom)  # Shape (147,)\n",
    "        cos3 = cosine_similarity(red_bow, red_custom)  # Shape (147,)\n",
    "        combined_embedding = np.column_stack(((cos1 + cos3) / 2, (cos2 + cos3) / 2))  # Shape (147,2)\n",
    "    else:\n",
    "        raise ValueError(\"Invalid combination method\")\n",
    "\n",
    "    return combined_embedding\n",
    "\n",
    "\n",
    "# Example usage\n",
    "final_embeddings_2 = combine_embeddings_2(red_bow_k1, red_bow_k2, red_bow_k3, method=\"cos\")\n",
    "\n",
    "print(\"\\nFinal Combined 2D Embeddings:\\n\", final_embeddings_2[:9])\n"
   ]
  },
  {
   "cell_type": "code",
   "execution_count": 116,
   "id": "5fde18aa-4591-4941-b068-21849cd1778f",
   "metadata": {
    "scrolled": true
   },
   "outputs": [
    {
     "name": "stdout",
     "output_type": "stream",
     "text": [
      "\n",
      "Final Combined 2D Embeddings:\n",
      " [[-0.00788067 -0.00134858]\n",
      " [-0.03283089  0.2646087 ]\n",
      " [ 0.0025036   0.00467962]\n",
      " [-0.00430739  0.02009189]\n",
      " [-0.01664539  0.16875274]\n",
      " [-0.00028784 -0.00350906]\n",
      " [ 0.11221088 -0.0650861 ]\n",
      " [-0.01012734 -0.00180551]\n",
      " [-0.05795288 -0.20859212]]\n"
     ]
    }
   ],
   "source": [
    "def combine_embeddings(red_bow, red_tf_idf, red_custom, method=\"average\"):\n",
    "    if method == \"average\":\n",
    "        combined_embedding = (red_bow + red_tf_idf + red_custom) / 3\n",
    "    elif method == \"mult\":\n",
    "        combined_embedding = red_bow * red_tf_idf * red_custom\n",
    "    else:\n",
    "        raise ValueError(\"Invalid combination method\")\n",
    "\n",
    "    return combined_embedding\n",
    "\n",
    "final_embeddings = combine_embeddings(red_bow_k1, red_bow_k2, red_bow_k3, method=\"mult\")\n",
    "\n",
    "print(\"\\nFinal Combined 2D Embeddings:\\n\", final_embeddings[:9])\n"
   ]
  },
  {
   "cell_type": "code",
   "execution_count": 122,
   "id": "bb638119-f772-4c21-9601-315e05b9a4af",
   "metadata": {},
   "outputs": [
    {
     "name": "stdout",
     "output_type": "stream",
     "text": [
      "[[ 0.50651835 -0.48465254]\n",
      " [-1.21892163  0.61967399]\n",
      " [ 0.88938007  1.12560742]\n",
      " [ 0.59459701 -0.95648115]\n",
      " [ 0.46703286 -1.15933437]]\n"
     ]
    }
   ],
   "source": [
    "def z_score_normalize(data):\n",
    "    mean = np.mean(data, axis=0)\n",
    "    std = np.std(data, axis=0, ddof=0)  # Population standard deviation\n",
    "    return ((data - mean) / std)  # Ensuring shape remains (147,2)\n",
    "\n",
    "# Apply normalization\n",
    "normalized_data = z_score_normalize(final_embeddings_2)\n",
    "\n",
    "# Print first 5 rows\n",
    "print(normalized_data[:5])\n"
   ]
  },
  {
   "cell_type": "code",
   "execution_count": 123,
   "id": "3e303e93-9c22-420a-9117-053653c8fd90",
   "metadata": {},
   "outputs": [],
   "source": [
    "def kmeans(data, k, max_iters=100000, tol=1e-6):\n",
    "    centroids = data[np.random.choice(data.shape[0], k, replace=False)]\n",
    "    for i in range(max_iters):\n",
    "        distances = np.linalg.norm(data[:, np.newaxis] - centroids, axis=2)\n",
    "        labels = np.argmin(distances, axis=1)\n",
    "        new_centroids = np.array([data[labels == j].mean(axis=0) for j in range(k)])\n",
    "        if np.all(np.abs(new_centroids - centroids) < tol):\n",
    "            break\n",
    "        centroids = new_centroids\n",
    "    return labels, centroids\n",
    "\n",
    "k = 5\n",
    "labels, centroids = kmeans(normalized_data, k)"
   ]
  },
  {
   "cell_type": "code",
   "execution_count": 124,
   "id": "5578af6b-5fd6-4717-8050-ce4bad85898a",
   "metadata": {},
   "outputs": [
    {
     "data": {
      "image/png": "[encoded data removed]",
      "text/plain": [
       "<Figure size 800x600 with 1 Axes>"
      ]
     },
     "metadata": {},
     "output_type": "display_data"
    }
   ],
   "source": [
    "# Scatter plot\n",
    "plt.figure(figsize=(8, 6))\n",
    "\n",
    "# Assign unique colors to clusters\n",
    "colors = ['red', 'blue', 'green', 'purple', 'orange', 'black', 'yellow']\n",
    "\n",
    "# Plot each cluster with different colors\n",
    "for cluster_id in range(k):\n",
    "    cluster_points = normalized_data[labels == cluster_id]  # Select points in this cluster\n",
    "    plt.scatter(cluster_points[:, 0], cluster_points[:, 1], \n",
    "                color=colors[cluster_id], label=f'Cluster {cluster_id}', alpha=0.6)\n",
    "\n",
    "# Plot centroids\n",
    "plt.scatter(centroids[:, 0], centroids[:, 1], \n",
    "            color='black', marker='X', s=200, label='Centroids')\n",
    "\n",
    "# Titles & Legends\n",
    "plt.xlabel(\"PCA Component 1\")\n",
    "plt.ylabel(\"PCA Component 2\")\n",
    "plt.title(\"Combining method: Cosine similarity with z-score normalization\")\n",
    "plt.legend()\n",
    "plt.show()\n"
   ]
  },
  {
   "cell_type": "code",
   "execution_count": 125,
   "id": "0fb0182e-28c7-4f75-bf32-e9841594e155",
   "metadata": {
    "scrolled": true
   },
   "outputs": [
    {
     "name": "stdout",
     "output_type": "stream",
     "text": [
      "   classical    country    hip-hop        pop       rock\n",
      "0  27.272727  27.272727   9.090909   4.545455  31.818182\n",
      "1  10.000000  10.000000  40.000000  27.500000  12.500000\n",
      "2  26.315789  18.421053  18.421053  26.315789  10.526316\n",
      "3  10.714286  25.000000  14.285714  17.857143  32.142857\n",
      "4  21.052632  26.315789   5.263158  21.052632  26.315789\n"
     ]
    }
   ],
   "source": [
    "unique_genres = np.unique(true_genres)  # Example: ['classical', 'jazz', 'pop', 'rock', 'electronic']\n",
    "\n",
    "# Create a DataFrame to store percentage distributions\n",
    "cluster_distribution = pd.DataFrame(0, index=range(k), columns=unique_genres)\n",
    "\n",
    "# Count occurrences of each genre in each cluster\n",
    "for cluster_id in range(k):\n",
    "    cluster_songs = true_genres[labels == cluster_id]  # Get true genres in the current cluster\n",
    "    for genre in unique_genres:\n",
    "        cluster_distribution.loc[cluster_id, genre] = np.sum(cluster_songs == genre)\n",
    "\n",
    "# Convert to percentage\n",
    "cluster_distribution_percentage = cluster_distribution.div(cluster_distribution.sum(axis=1), axis=0) * 100\n",
    "\n",
    "# Display the percentage distribution per cluster\n",
    "print(cluster_distribution_percentage)\n"
   ]
  },
  {
   "cell_type": "code",
   "execution_count": 126,
   "id": "d7b987c1-2c15-469a-a243-8445304177dc",
   "metadata": {},
   "outputs": [
    {
     "name": "stdout",
     "output_type": "stream",
     "text": [
      "Silhouette Score: 0.5260\n"
     ]
    }
   ],
   "source": [
    "from sklearn.metrics import silhouette_score\n",
    "\n",
    "# Compute Silhouette Score\n",
    "sil_score = silhouette_score(normalized_data, labels)\n",
    "print(f\"Silhouette Score: {sil_score:.4f}\")"
   ]
  },
  {
   "cell_type": "code",
   "execution_count": 142,
   "id": "0f1f0f52-9e01-4f88-ae55-e6da5c734351",
   "metadata": {
    "scrolled": true
   },
   "outputs": [
    {
     "name": "stdout",
     "output_type": "stream",
     "text": [
      "   classical  country  hip-hop  pop  rock\n",
      "0          6        6        2    1     7\n",
      "1          4        4       16   11     5\n",
      "2         10        7        7   10     4\n",
      "3          3        7        4    5     9\n",
      "4          4        5        1    4     5\n",
      "Cluster to Genre Mapping: {0: 'rock', 1: 'hip-hop', 2: 'classical', 3: 'rock', 4: 'country'}\n"
     ]
    }
   ],
   "source": [
    "# Assume `true_genres` contains the actual genre labels of the songs in the dataset\n",
    "# Assume `labels` is the K-Means assigned cluster for each song\n",
    "# `true_genres` and `labels` should be aligned (same order)\n",
    "\n",
    "k = 5  # Number of clusters\n",
    "unique_genres = np.unique(true_genres)  # List of actual genres\n",
    "\n",
    "# Create a confusion matrix: cluster vs. genre counts\n",
    "cluster_distribution = pd.DataFrame(0, index=range(k), columns=unique_genres)\n",
    "\n",
    "for i in range(len(true_genres)):\n",
    "    cluster_distribution.loc[labels[i], true_genres[i]] += 1  # Increment count\n",
    "\n",
    "print(cluster_distribution)\n",
    "\n",
    "# Assign the most common genre in each cluster\n",
    "cluster_to_genre = cluster_distribution.idxmax(axis=1).to_dict()\n",
    "print(\"Cluster to Genre Mapping:\", cluster_to_genre)"
   ]
  },
  {
   "cell_type": "code",
   "execution_count": 143,
   "id": "a76de52e-cc45-4205-8007-7591f356441c",
   "metadata": {},
   "outputs": [
    {
     "name": "stdout",
     "output_type": "stream",
     "text": [
      "{0: 'rock', 1: 'hip-hop', 2: 'classical', 3: 'pop', 4: 'country'}\n"
     ]
    }
   ],
   "source": [
    "cluster_to_genre[3]='pop'\n",
    "print(cluster_to_genre)"
   ]
  },
  {
   "cell_type": "code",
   "execution_count": 144,
   "id": "0dc70a74-e54a-457f-ad2d-84c3f797862f",
   "metadata": {},
   "outputs": [],
   "source": [
    "new_songs=[['piano', 'calm', 'slow'], ['guitar', 'emotional', 'distorted'], ['synth', 'mellow', 'distorted']]"
   ]
  },
  {
   "cell_type": "code",
   "execution_count": 146,
   "id": "0d8e69cd-0da1-4876-86f6-0a62f9bd3bc7",
   "metadata": {},
   "outputs": [],
   "source": [
    "k1_new=[]\n",
    "k2_new=[]\n",
    "k3_new=[]\n",
    "for song in new_songs:\n",
    "    k1_new.append(song[0])\n",
    "    k2_new.append(song[1])\n",
    "    k3_new.append(song[2])\n",
    "bow_new_k1=create_bow_matrix(k1_new,word_set[0], index_dict[0])\n",
    "bow_new_k2=create_bow_matrix(k2_new,word_set[1], index_dict[1])\n",
    "bow_new_k3=create_bow_matrix(k3_new,word_set[2], index_dict[2])\n",
    "\n",
    "red_bow_new_k1=pca(bow_new_k1)\n",
    "red_bow_new_k2=pca(bow_new_k2)\n",
    "red_bow_new_k3=pca(bow_new_k3)\n",
    "\n",
    "final_embeddings_new = combine_embeddings_2(red_bow_new_k1, red_bow_new_k2, red_bow_new_k3, method=\"cos\")\n",
    "normalized_new_embeddings=z_score_normalize(final_embeddings_new)"
   ]
  },
  {
   "cell_type": "code",
   "execution_count": 147,
   "id": "bb910446-2610-4e9f-ae0a-6c40a8873c71",
   "metadata": {},
   "outputs": [
    {
     "name": "stdout",
     "output_type": "stream",
     "text": [
      "[[-1.41231304 -0.29555461]\n",
      " [ 0.76963024  1.34547744]\n",
      " [ 0.64268279 -1.04992283]]\n"
     ]
    }
   ],
   "source": [
    "print(normalized_new_embeddings)"
   ]
  },
  {
   "cell_type": "code",
   "execution_count": 25,
   "id": "3016d54c-2246-4eec-8f6d-ea5babbb4a43",
   "metadata": {
    "scrolled": true
   },
   "outputs": [],
   "source": [
    "def closest_cluster(data_point, centroids):\n",
    "    return np.argmin(np.linalg.norm(centroids - data_point, axis=1))  # Compute & return closest cluster index"
   ]
  },
  {
   "cell_type": "code",
   "execution_count": 139,
   "id": "a0c19c38-2b1f-4d62-86eb-ffbe8026546d",
   "metadata": {},
   "outputs": [
    {
     "name": "stdout",
     "output_type": "stream",
     "text": [
      "29.25170068027211\n"
     ]
    }
   ],
   "source": [
    "correct=0\n",
    "for i in range(len(normalized_data)):\n",
    "    cluster_idx = closest_cluster(normalized_data[i], centroids)\n",
    "    if cluster_to_genre[cluster_idx]==true_genres[i]:\n",
    "        correct+=1\n",
    "print(correct*100/len(normalized_data))"
   ]
  },
  {
   "cell_type": "code",
   "execution_count": 151,
   "id": "039d1648-48dc-48ec-88d5-a90fad1a8acc",
   "metadata": {},
   "outputs": [
    {
     "name": "stdout",
     "output_type": "stream",
     "text": [
      "Keywords: ['piano', 'calm', 'slow']  Genre: pop\n",
      "Keywords: ['guitar', 'emotional', 'distorted']  Genre: classical\n",
      "Keywords: ['synth', 'mellow', 'distorted']  Genre: hip-hop\n"
     ]
    }
   ],
   "source": [
    "for i,data in enumerate(normalized_new_embeddings):\n",
    "    cluster_idx = closest_cluster(data, centroids)\n",
    "    print(f\"Keywords: {new_songs[i]}  Genre: {cluster_to_genre[cluster_idx]}\")"
   ]
  },
  {
   "cell_type": "code",
   "execution_count": 130,
   "id": "e33ad1bb-70b7-401b-9272-03b55f6baad3",
   "metadata": {},
   "outputs": [
    {
     "data": {
      "image/png": "[encoded data removed]",
      "text/plain": [
       "<Figure size 800x500 with 1 Axes>"
      ]
     },
     "metadata": {},
     "output_type": "display_data"
    }
   ],
   "source": [
    "import numpy as np\n",
    "import matplotlib.pyplot as plt\n",
    "from sklearn.cluster import KMeans\n",
    "\n",
    "# Function to compute K-Means inertia for different values of k\n",
    "def elbow_method(data, max_k=10):\n",
    "    inertia_values = []\n",
    "    k_values = range(1, max_k+1)\n",
    "\n",
    "    for k in k_values:\n",
    "        kmeans = KMeans(n_clusters=k, random_state=42, n_init=10)\n",
    "        kmeans.fit(data)\n",
    "        inertia_values.append(kmeans.inertia_)\n",
    "\n",
    "    # Plotting the elbow curve\n",
    "    plt.figure(figsize=(8,5))\n",
    "    plt.plot(k_values, inertia_values, marker='o', linestyle='-', color='b')\n",
    "    plt.xlabel(\"Number of Clusters (k)\")\n",
    "    plt.ylabel(\"Sum of Squares)\")\n",
    "    plt.title(\"Elbow Method for Optimal k\")\n",
    "    plt.xticks(k_values)\n",
    "    plt.show()\n",
    "\n",
    "# Run elbow method on your dataset\n",
    "elbow_method(normalized_data, max_k=10)"
   ]
  },
  {
   "cell_type": "code",
   "execution_count": null,
   "id": "7f7011e3-e759-40c7-ab30-9fefc83faae4",
   "metadata": {},
   "outputs": [],
   "source": []
  }
 ],
 "metadata": {
  "kernelspec": {
   "display_name": "Python 3 (ipykernel)",
   "language": "python",
   "name": "python3"
  },
  "language_info": {
   "codemirror_mode": {
    "name": "ipython",
    "version": 3
   },
   "file_extension": ".py",
   "mimetype": "text/x-python",
   "name": "python",
   "nbconvert_exporter": "python",
   "pygments_lexer": "ipython3",
   "version": "3.12.9"
  }
 },
 "nbformat": 4,
 "nbformat_minor": 5
}
