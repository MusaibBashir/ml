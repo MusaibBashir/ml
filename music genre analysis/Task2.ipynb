{
 "cells": [
  {
   "cell_type": "markdown",
   "id": "a43fa3eb-44ac-49d7-8a8f-1aa1f13bec72",
   "metadata": {},
   "source": [
    "First we import the required libraries, numpy for calculational stuff, pandas for dataset, matplotlib for plotting.\n",
    "Then import the dataset, and take an overview of it."
   ]
  },
  {
   "cell_type": "code",
   "execution_count": 1,
   "id": "d090a8c7-32b3-4f05-9ffc-a279cba16c19",
   "metadata": {},
   "outputs": [],
   "source": [
    "import numpy as np\n",
    "import pandas as pd\n",
    "import matplotlib.pyplot as plt"
   ]
  },
  {
   "cell_type": "code",
   "execution_count": 2,
   "id": "f118f84d-4fb1-4e1f-81d8-951ac0066e14",
   "metadata": {},
   "outputs": [
    {
     "data": {
      "text/html": [
       "<div>\n",
       "<style scoped>\n",
       "    .dataframe tbody tr th:only-of-type {\n",
       "        vertical-align: middle;\n",
       "    }\n",
       "\n",
       "    .dataframe tbody tr th {\n",
       "        vertical-align: top;\n",
       "    }\n",
       "\n",
       "    .dataframe thead th {\n",
       "        text-align: right;\n",
       "    }\n",
       "</style>\n",
       "<table border=\"1\" class=\"dataframe\">\n",
       "  <thead>\n",
       "    <tr style=\"text-align: right;\">\n",
       "      <th></th>\n",
       "      <th>song_id</th>\n",
       "      <th>keyword_1</th>\n",
       "      <th>keyword_2</th>\n",
       "      <th>keyword_3</th>\n",
       "      <th>genre</th>\n",
       "    </tr>\n",
       "  </thead>\n",
       "  <tbody>\n",
       "    <tr>\n",
       "      <th>0</th>\n",
       "      <td>74</td>\n",
       "      <td>guitar</td>\n",
       "      <td>happy</td>\n",
       "      <td>distorted</td>\n",
       "      <td>rock</td>\n",
       "    </tr>\n",
       "    <tr>\n",
       "      <th>1</th>\n",
       "      <td>103</td>\n",
       "      <td>brass</td>\n",
       "      <td>energetic</td>\n",
       "      <td>melodic</td>\n",
       "      <td>classical</td>\n",
       "    </tr>\n",
       "    <tr>\n",
       "      <th>2</th>\n",
       "      <td>201</td>\n",
       "      <td>banjo</td>\n",
       "      <td>happy</td>\n",
       "      <td>acoustic</td>\n",
       "      <td>country</td>\n",
       "    </tr>\n",
       "    <tr>\n",
       "      <th>3</th>\n",
       "      <td>194</td>\n",
       "      <td>synth</td>\n",
       "      <td>energetic</td>\n",
       "      <td>heavy</td>\n",
       "      <td>hip-hop</td>\n",
       "    </tr>\n",
       "    <tr>\n",
       "      <th>4</th>\n",
       "      <td>184</td>\n",
       "      <td>synth</td>\n",
       "      <td>energetic</td>\n",
       "      <td>slow</td>\n",
       "      <td>hip-hop</td>\n",
       "    </tr>\n",
       "    <tr>\n",
       "      <th>...</th>\n",
       "      <td>...</td>\n",
       "      <td>...</td>\n",
       "      <td>...</td>\n",
       "      <td>...</td>\n",
       "      <td>...</td>\n",
       "    </tr>\n",
       "    <tr>\n",
       "      <th>142</th>\n",
       "      <td>195</td>\n",
       "      <td>synth</td>\n",
       "      <td>angry</td>\n",
       "      <td>melodic</td>\n",
       "      <td>hip-hop</td>\n",
       "    </tr>\n",
       "    <tr>\n",
       "      <th>143</th>\n",
       "      <td>7</td>\n",
       "      <td>guitar</td>\n",
       "      <td>energetic</td>\n",
       "      <td>fast</td>\n",
       "      <td>pop</td>\n",
       "    </tr>\n",
       "    <tr>\n",
       "      <th>144</th>\n",
       "      <td>14</td>\n",
       "      <td>guitar</td>\n",
       "      <td>happy</td>\n",
       "      <td>rhythmic</td>\n",
       "      <td>pop</td>\n",
       "    </tr>\n",
       "    <tr>\n",
       "      <th>145</th>\n",
       "      <td>36</td>\n",
       "      <td>synth</td>\n",
       "      <td>mellow</td>\n",
       "      <td>danceable</td>\n",
       "      <td>pop</td>\n",
       "    </tr>\n",
       "    <tr>\n",
       "      <th>146</th>\n",
       "      <td>29</td>\n",
       "      <td>synth</td>\n",
       "      <td>emotional</td>\n",
       "      <td>slow</td>\n",
       "      <td>pop</td>\n",
       "    </tr>\n",
       "  </tbody>\n",
       "</table>\n",
       "<p>147 rows × 5 columns</p>\n",
       "</div>"
      ],
      "text/plain": [
       "     song_id keyword_1  keyword_2  keyword_3      genre\n",
       "0         74    guitar      happy  distorted       rock\n",
       "1        103     brass  energetic    melodic  classical\n",
       "2        201     banjo      happy   acoustic    country\n",
       "3        194     synth  energetic      heavy    hip-hop\n",
       "4        184     synth  energetic       slow    hip-hop\n",
       "..       ...       ...        ...        ...        ...\n",
       "142      195     synth      angry    melodic    hip-hop\n",
       "143        7    guitar  energetic       fast        pop\n",
       "144       14    guitar      happy   rhythmic        pop\n",
       "145       36     synth     mellow  danceable        pop\n",
       "146       29     synth  emotional       slow        pop\n",
       "\n",
       "[147 rows x 5 columns]"
      ]
     },
     "execution_count": 2,
     "metadata": {},
     "output_type": "execute_result"
    }
   ],
   "source": [
    "#here path is the same folder as this notebook\n",
    "path=\"Task2_dataset.csv\"\n",
    "df=pd.read_csv(path)\n",
    "df"
   ]
  },
  {
   "cell_type": "markdown",
   "id": "b110fc1f-16e3-4c35-bc10-98c37681a3f3",
   "metadata": {},
   "source": [
    "Overview of the arrays made and used ahead:\n",
    "sentences= an array whose each element itself is an array containing the value keyword_1, keyword_2, keyword_3 for each song.\n",
    "true_genres= array containing the labels for actual genres for each song - we require this later to calculate confusion matrix\n",
    "\n",
    "word_set= it is like a vocab, it contains all the unique words(from keyword 1,2,3) in the dataset.\n",
    "index_dict= this is a dictionary which maps each word in the word_set to a number (index), this would be used for BoW matrix calculations"
   ]
  },
  {
   "cell_type": "code",
   "execution_count": 3,
   "id": "69fbf9c6-1e6e-44c6-a6ce-04f61ee133fc",
   "metadata": {},
   "outputs": [],
   "source": [
    "k1 = df['keyword_1'].to_numpy()\n",
    "k2=df['keyword_2'].to_numpy()\n",
    "k3= df['keyword_3'].to_numpy()\n",
    "true_genres=df['genre'].to_numpy()"
   ]
  },
  {
   "cell_type": "code",
   "execution_count": 4,
   "id": "f8c944fa-0981-4115-bca1-81d5d9359d8a",
   "metadata": {},
   "outputs": [
    {
     "name": "stdout",
     "output_type": "stream",
     "text": [
      "Vocab keyword 1: {'banjo', 'brass', 'synth', 'violin', 'guitar', 'piano'}, Size of vocab: 6\n",
      "Vocab keyword 2: {'angry', 'emotional', 'sad', 'energetic', 'nostalgic', 'upbeat', 'mellow', 'happy', 'calm'},Size of vocab: 9\n",
      "Vocab keyword 3: {'heavy', 'danceable', 'distorted', 'acoustic', 'slow', 'upbeat', 'fast', 'rhythmic', 'twangy', 'melodic'}, Size of vocab: 10\n"
     ]
    }
   ],
   "source": [
    "print(f\"Vocab keyword 1: {set(k1)}, Size of vocab: {len(set(k1))}\")\n",
    "print(f\"Vocab keyword 2: {set(k2)},Size of vocab: {len(set(k2))}\")\n",
    "print(f\"Vocab keyword 3: {set(k3)}, Size of vocab: {len(set(k3))}\")"
   ]
  },
  {
   "cell_type": "code",
   "execution_count": 5,
   "id": "59ed03d5-02fe-417e-a1cf-740bbca44ba3",
   "metadata": {},
   "outputs": [],
   "source": [
    "def create_index_dict(keywords):\n",
    "    word_set = set(keywords)\n",
    "    index_dict = {word: i for i, word in enumerate(word_set)}\n",
    "    return index_dict, word_set"
   ]
  },
  {
   "cell_type": "code",
   "execution_count": 6,
   "id": "65ba8ea7-57ba-44de-9342-7be95a858f16",
   "metadata": {},
   "outputs": [],
   "source": [
    "index_dict = []\n",
    "word_set = []\n",
    "\n",
    "for keywords in [k1, k2, k3]:\n",
    "    idx_dict, w_set = create_index_dict(keywords)\n",
    "    index_dict.append(idx_dict)\n",
    "    word_set.append(w_set)"
   ]
  },
  {
   "cell_type": "markdown",
   "id": "0fa6d709-3030-4bfe-8642-facab4e99ee7",
   "metadata": {},
   "source": [
    "BoW Matrix: \n",
    "For each keyword column we have built a seperate word set and index dict, we use that now to build the BoW matrix"
   ]
  },
  {
   "cell_type": "code",
   "execution_count": 7,
   "id": "e902913d-b657-4138-8485-bd03c3f62f21",
   "metadata": {},
   "outputs": [],
   "source": [
    "def create_bow_matrix(keywords, word_set, index_dict):\n",
    "    bow_matrix = np.zeros((len(keywords), len(word_set)), dtype=int)\n",
    "    for i, word in enumerate(keywords):\n",
    "        bow_matrix[i, index_dict[word]] += 1\n",
    "    return bow_matrix"
   ]
  },
  {
   "cell_type": "code",
   "execution_count": 8,
   "id": "1bab3932-8b99-4531-b365-50c868863d9f",
   "metadata": {},
   "outputs": [
    {
     "name": "stdout",
     "output_type": "stream",
     "text": [
      "[[0 0 0 0 1 0]\n",
      " [0 1 0 0 0 0]\n",
      " [1 0 0 0 0 0]\n",
      " [0 0 1 0 0 0]\n",
      " [0 0 1 0 0 0]]\n"
     ]
    }
   ],
   "source": [
    "bow_matrix_k1=create_bow_matrix(k1,word_set[0], index_dict[0])\n",
    "bow_matrix_k2=create_bow_matrix(k2,word_set[1], index_dict[1])\n",
    "bow_matrix_k3=create_bow_matrix(k3,word_set[2], index_dict[2])\n",
    "print(bow_matrix_k1[:5])"
   ]
  },
  {
   "cell_type": "markdown",
   "id": "3c75f662-fcbf-4061-9ba4-d9f541c3b06a",
   "metadata": {},
   "source": [
    "PCA: "
   ]
  },
  {
   "cell_type": "code",
   "execution_count": 9,
   "id": "28d0f63b-6279-43d6-9ebd-3f4bd8e17ba0",
   "metadata": {},
   "outputs": [],
   "source": [
    "def pca(X, n_components=2):\n",
    "    X_mean = np.mean(X, axis=0)\n",
    "    X_centered = X - X_mean\n",
    "    covariance_matrix = np.cov(X_centered, rowvar=False)\n",
    "    eigenvalues, eigentf_idf_arr = np.linalg.eig(covariance_matrix)\n",
    "    sorted_indices = np.argsort(eigenvalues)[::-1]\n",
    "    eigentf_idf_arr = eigentf_idf_arr[:, sorted_indices]\n",
    "    principal_components = eigentf_idf_arr[:, :n_components]\n",
    "    X_reduced = np.dot(X_centered, principal_components)\n",
    "    \n",
    "    return X_reduced"
   ]
  },
  {
   "cell_type": "code",
   "execution_count": 10,
   "id": "30e61eeb-1d45-41cd-8fa7-dcf62ac60887",
   "metadata": {},
   "outputs": [],
   "source": [
    "red_bow_k1=pca(bow_matrix_k1)\n",
    "red_bow_k2=pca(bow_matrix_k2)\n",
    "red_bow_k3=pca(bow_matrix_k3)"
   ]
  },
  {
   "cell_type": "markdown",
   "id": "1ad297c7-c62a-4e7b-ad6c-43e898c38194",
   "metadata": {},
   "source": [
    "Combine embeddings: \n",
    "We use 3 methods: Simple average, Hadamard product, Cosine similarity.\n",
    "For cosine similarity we calculate it pairwise so in total we have 3 matrices, and finally we combine them. Our first column of the combined matrix is the average of the cos similarity of reduced k1 & reduced k2, second column is average of cos similarity of reduced k2 and reduced k3"
   ]
  },
  {
   "cell_type": "code",
   "execution_count": 11,
   "id": "0d63e8be-dcf0-49e6-9c60-78e3554bffa5",
   "metadata": {},
   "outputs": [
    {
     "name": "stdout",
     "output_type": "stream",
     "text": [
      "\n",
      "Final Combined 2D Embeddings:\n",
      " [[ 0.26032655 -0.43790183]\n",
      " [ 0.29248477 -0.37449565]\n",
      " [ 0.24836355  0.29996394]\n",
      " [-0.09808634  0.4178987 ]\n",
      " [-0.15941664  0.34521162]]\n"
     ]
    }
   ],
   "source": [
    "def cosine_similarity(A, B):\n",
    "    dot_product = np.sum(A * B, axis=1)  \n",
    "    norm_A = np.linalg.norm(A, axis=1)  \n",
    "    norm_B = np.linalg.norm(B, axis=1)\n",
    "    return dot_product / (norm_A * norm_B + 1e-10)  # We add a very small number so as to avoid division by zero\n",
    "\n",
    "def combine_embeddings(A, B, C, method=\"average\"):\n",
    "    if method == \"average\":\n",
    "        combined_embedding = (A + B + C) / 3\n",
    "    elif method == \"mult\":\n",
    "        combined_embedding = A * B * C\n",
    "    elif method == \"cos\":\n",
    "        cos1 = cosine_similarity(A, B)  \n",
    "        cos2 = cosine_similarity(B, C)  \n",
    "        cos3 = cosine_similarity(A, C) \n",
    "        combined_embedding = np.column_stack(((cos1 + cos3) / 2, (cos2 + cos3) / 2))  \n",
    "    return combined_embedding\n",
    "\n",
    "final_embeddings = combine_embeddings(red_bow_k1, red_bow_k2, red_bow_k3, method=\"cos\")\n",
    "\n",
    "print(\"\\nFinal Combined 2D Embeddings:\\n\", final_embeddings[:5])\n"
   ]
  },
  {
   "cell_type": "markdown",
   "id": "97838e18-28ac-4e5b-8e5f-218bc92d5b37",
   "metadata": {},
   "source": [
    "We apply z-score normalization to ensure data is evenly spread out"
   ]
  },
  {
   "cell_type": "code",
   "execution_count": 12,
   "id": "bb638119-f772-4c21-9601-315e05b9a4af",
   "metadata": {},
   "outputs": [
    {
     "name": "stdout",
     "output_type": "stream",
     "text": [
      "[[ 0.56664548 -1.04648183]\n",
      " [ 0.62919139 -0.90967783]\n",
      " [ 0.54337813  0.54552358]\n",
      " [-0.13044723  0.79997742]\n",
      " [-0.24973118  0.64314912]]\n"
     ]
    }
   ],
   "source": [
    "def z_score_normalize(data):\n",
    "    mean = np.mean(data, axis=0)\n",
    "    std = np.std(data, axis=0, ddof=0) \n",
    "    return ((data - mean) / std) \n",
    "\n",
    "normalized_data = z_score_normalize(final_embeddings)\n",
    "print(normalized_data[:5])"
   ]
  },
  {
   "cell_type": "markdown",
   "id": "dfbf1971-0d6c-424f-b761-459f04904ed2",
   "metadata": {},
   "source": [
    "We use kmeans++ algorithm"
   ]
  },
  {
   "cell_type": "code",
   "execution_count": 61,
   "id": "3e303e93-9c22-420a-9117-053653c8fd90",
   "metadata": {},
   "outputs": [],
   "source": [
    "import numpy as np\n",
    "\n",
    "def kmeans_plus_plus(data, k, max_iters=50000, tol=1e-6):\n",
    "    np.random.seed(3000)  # For reproducibility\n",
    "    n_samples, n_features = data.shape\n",
    "\n",
    "    # Step 1: Initialize first centroid randomly\n",
    "    first_index = np.random.randint(0, n_samples)\n",
    "    centroids = [data[first_index].tolist()]\n",
    "\n",
    "    # Step 2: Select remaining k-1 centroids\n",
    "    for _ in range(1, k):\n",
    "        distances = []\n",
    "        for i in range(n_samples):\n",
    "            min_dist = float('inf')\n",
    "            for centroid in centroids:\n",
    "                dist = np.linalg.norm(data[i] - np.array(centroid))\n",
    "                if dist < min_dist:\n",
    "                    min_dist = dist\n",
    "            distances.append(min_dist ** 2)\n",
    "\n",
    "        total_dist = sum(distances)\n",
    "        probabilities = [d / total_dist for d in distances]\n",
    "\n",
    "        chosen_index = np.random.choice(n_samples, p=probabilities)\n",
    "        centroids.append(data[chosen_index].tolist())\n",
    "\n",
    "    centroids = np.array(centroids)\n",
    "\n",
    "    # Step 3: Run standard k-means\n",
    "    for _ in range(max_iters):\n",
    "        labels = np.zeros(n_samples, dtype=int)\n",
    "        new_centroids = np.zeros((k, n_features))\n",
    "        counts = np.zeros(k)\n",
    "\n",
    "        # Assign clusters\n",
    "        for i in range(n_samples):\n",
    "            min_dist = float('inf')\n",
    "            best_cluster = -1\n",
    "            for j in range(k):\n",
    "                dist = np.linalg.norm(data[i] - centroids[j])\n",
    "                if dist < min_dist:\n",
    "                    min_dist = dist\n",
    "                    best_cluster = j\n",
    "            labels[i] = best_cluster\n",
    "\n",
    "        # Compute new centroids\n",
    "        for i in range(n_samples):\n",
    "            cluster = labels[i]\n",
    "            new_centroids[cluster] += data[i]\n",
    "            counts[cluster] += 1\n",
    "\n",
    "        for j in range(k):\n",
    "            if counts[j] > 0:\n",
    "                new_centroids[j] /= counts[j]\n",
    "\n",
    "        # Check convergence\n",
    "        converged = True\n",
    "        for j in range(k):\n",
    "            if np.linalg.norm(new_centroids[j] - centroids[j]) >= tol:\n",
    "                converged = False\n",
    "                break\n",
    "        \n",
    "        if converged:\n",
    "            break\n",
    "\n",
    "        centroids = new_centroids\n",
    "\n",
    "    return labels, centroids\n",
    "\n",
    "# Example usage\n",
    "k = 5\n",
    "labels, centroids = kmeans_plus_plus(normalized_data, k)"
   ]
  },
  {
   "cell_type": "markdown",
   "id": "fb88315b-16a4-4ead-a781-5ade054e5648",
   "metadata": {},
   "source": [
    "Plotting the scatter plot of cluster centroids and final embeddings, where each cluster is given a unique colour"
   ]
  },
  {
   "cell_type": "code",
   "execution_count": 62,
   "id": "5578af6b-5fd6-4717-8050-ce4bad85898a",
   "metadata": {},
   "outputs": [
    {
     "data": {
      "image/png": "[encoded data removed]",
      "text/plain": [
       "<Figure size 800x600 with 1 Axes>"
      ]
     },
     "metadata": {},
     "output_type": "display_data"
    }
   ],
   "source": [
    "# Scatter plot\n",
    "plt.figure(figsize=(8, 6))\n",
    "\n",
    "# Assign unique colors to clusters\n",
    "colors = ['red', 'blue', 'green', 'purple', 'orange']\n",
    "\n",
    "# Plot each cluster with different colors\n",
    "for cluster_id in range(k):\n",
    "    cluster_points = normalized_data[labels == cluster_id]  # Select points in this cluster\n",
    "    plt.scatter(cluster_points[:, 0], cluster_points[:, 1], \n",
    "                color=colors[cluster_id], label=f'Cluster {cluster_id}', alpha=0.6)\n",
    "\n",
    "# Plot centroids\n",
    "plt.scatter(centroids[:, 0], centroids[:, 1], \n",
    "            color='black', marker='X', s=200, label='Centroids')\n",
    "\n",
    "# Titles & Legends\n",
    "plt.xlabel(\"PCA Component 1\")\n",
    "plt.ylabel(\"PCA Component 2\")\n",
    "plt.title(\"Combining method: Cosine similarity with z-score normalization\")\n",
    "plt.legend()\n",
    "plt.show()\n"
   ]
  },
  {
   "cell_type": "markdown",
   "id": "7f98b76f-dbe3-4fd4-8fdf-86223b5f44be",
   "metadata": {},
   "source": [
    "Calculating Silhouette Score"
   ]
  },
  {
   "cell_type": "code",
   "execution_count": 63,
   "id": "d7b987c1-2c15-469a-a243-8445304177dc",
   "metadata": {},
   "outputs": [
    {
     "name": "stdout",
     "output_type": "stream",
     "text": [
      "Silhouette Score: 0.6250\n"
     ]
    }
   ],
   "source": [
    "from sklearn.metrics import silhouette_score\n",
    "\n",
    "silhouette_score_kmeans = silhouette_score(normalized_data, labels)\n",
    "print(f\"Silhouette Score: {silhouette_score_kmeans:.4f}\")"
   ]
  },
  {
   "cell_type": "markdown",
   "id": "24dd9776-f886-4918-9b24-6d2d3a27248f",
   "metadata": {},
   "source": [
    "Ground Truth/Confusion Matrix expressed in percentage"
   ]
  },
  {
   "cell_type": "code",
   "execution_count": 64,
   "id": "0fb0182e-28c7-4f75-bf32-e9841594e155",
   "metadata": {
    "scrolled": true
   },
   "outputs": [
    {
     "name": "stdout",
     "output_type": "stream",
     "text": [
      "   classical    country    hip-hop        pop       rock\n",
      "0   8.695652  26.086957  10.869565  21.739130  32.608696\n",
      "1  14.285714  19.047619  23.809524  19.047619  23.809524\n",
      "2  35.000000  20.000000  15.000000  25.000000   5.000000\n",
      "3  20.000000  10.000000  35.000000  25.000000  10.000000\n",
      "4  25.000000  25.000000  15.000000  10.000000  25.000000\n"
     ]
    }
   ],
   "source": [
    "unique_genres = np.unique(true_genres)  # Example: ['classical', 'jazz', 'pop', 'rock', 'electronic']\n",
    "\n",
    "# Create a DataFrame to store percentage distributions\n",
    "cluster_distribution = pd.DataFrame(0, index=range(k), columns=unique_genres)\n",
    "\n",
    "# Count occurrences of each genre in each cluster\n",
    "for cluster_id in range(k):\n",
    "    cluster_songs = true_genres[labels == cluster_id]  # Get true genres in the current cluster\n",
    "    for genre in unique_genres:\n",
    "        cluster_distribution.loc[cluster_id, genre] = np.sum(cluster_songs == genre)\n",
    "\n",
    "# Convert to percentage\n",
    "cluster_distribution_percentage = cluster_distribution.div(cluster_distribution.sum(axis=1), axis=0) * 100\n",
    "\n",
    "# Display the percentage distribution per cluster\n",
    "print(cluster_distribution_percentage)\n"
   ]
  },
  {
   "cell_type": "markdown",
   "id": "74330a35-192f-42e9-abb2-41dceaa0f944",
   "metadata": {},
   "source": [
    "Assigning each cluster to a unique genre depending on which genre has the maximum songs in that cluster, this is done by building a frequency matrix(dataframe in this case).\n",
    "`true_genres` contains the actual genre labels of the songs in the dataset\n",
    "`labels` is the K-Means assigned cluster for each song"
   ]
  },
  {
   "cell_type": "code",
   "execution_count": 65,
   "id": "0f1f0f52-9e01-4f88-ae55-e6da5c734351",
   "metadata": {
    "scrolled": true
   },
   "outputs": [
    {
     "name": "stdout",
     "output_type": "stream",
     "text": [
      "   classical  country  hip-hop  pop  rock\n",
      "0          4       12        5   10    15\n",
      "1          3        4        5    4     5\n",
      "2          7        4        3    5     1\n",
      "3          8        4       14   10     4\n",
      "4          5        5        3    2     5\n",
      "Cluster to Genre Mapping: {0: 'rock', 1: 'hip-hop', 2: 'classical', 3: 'hip-hop', 4: 'classical'}\n"
     ]
    }
   ],
   "source": [
    "k = 5  # Number of clusters\n",
    "unique_genres = np.unique(true_genres)  # Set of actual genres\n",
    "\n",
    "# Frquency distribution dataframe\n",
    "cluster_distribution = pd.DataFrame(0, index=range(k), columns=unique_genres)\n",
    "\n",
    "for i in range(len(true_genres)):\n",
    "    cluster_distribution.loc[labels[i], true_genres[i]] += 1 \n",
    "\n",
    "print(cluster_distribution)\n",
    "\n",
    "# Assign the most common genre in each cluster\n",
    "cluster_to_genre = cluster_distribution.idxmax(axis=1).to_dict()\n",
    "print(\"Cluster to Genre Mapping:\", cluster_to_genre)"
   ]
  },
  {
   "cell_type": "markdown",
   "id": "511716ec-e562-452a-b691-69573fa88063",
   "metadata": {},
   "source": [
    "Since hip-hop occurs twice and country not even once, looking at the frequency matrix we replace index 2 with country (for detailed explanation see whitepaper)"
   ]
  },
  {
   "cell_type": "code",
   "execution_count": 67,
   "id": "a76de52e-cc45-4205-8007-7591f356441c",
   "metadata": {},
   "outputs": [
    {
     "name": "stdout",
     "output_type": "stream",
     "text": [
      "{0: 'rock', 1: 'pop', 2: 'classical', 3: 'hip-hop', 4: 'country'}\n"
     ]
    }
   ],
   "source": [
    "cluster_to_genre[1]='pop'\n",
    "cluster_to_genre[4]='country'\n",
    "print(cluster_to_genre)"
   ]
  },
  {
   "cell_type": "markdown",
   "id": "2ba8d003-ae52-436b-85af-21adc72b811a",
   "metadata": {},
   "source": [
    "Building the prediction model based on distance from the centroids we have already got from kmeans"
   ]
  },
  {
   "cell_type": "code",
   "execution_count": 68,
   "id": "0dc70a74-e54a-457f-ad2d-84c3f797862f",
   "metadata": {},
   "outputs": [],
   "source": [
    "new_songs=[['piano', 'calm', 'slow'], ['guitar', 'emotional', 'distorted'], ['synth', 'mellow', 'distorted']]"
   ]
  },
  {
   "cell_type": "code",
   "execution_count": 69,
   "id": "3016d54c-2246-4eec-8f6d-ea5babbb4a43",
   "metadata": {
    "scrolled": true
   },
   "outputs": [],
   "source": [
    "def closest_cluster(data_point, centroids):\n",
    "    return np.argmin(np.linalg.norm(centroids - data_point, axis=1))  # Compute & return closest cluster index"
   ]
  },
  {
   "cell_type": "code",
   "execution_count": 71,
   "id": "0d8e69cd-0da1-4876-86f6-0a62f9bd3bc7",
   "metadata": {},
   "outputs": [
    {
     "name": "stdout",
     "output_type": "stream",
     "text": [
      "[[-1.37240912 -1.37240912]\n",
      " [ 0.98178858  0.98178858]\n",
      " [ 0.39062053  0.39062053]]\n"
     ]
    }
   ],
   "source": [
    "#vectorizing the keywords of songs which have to be predicted\n",
    "k1_new=[]\n",
    "k2_new=[]\n",
    "k3_new=[]\n",
    "for song in new_songs:\n",
    "    k1_new.append(song[0])\n",
    "    k2_new.append(song[1])\n",
    "    k3_new.append(song[2])\n",
    "bow_new_k1=create_bow_matrix(k1_new,word_set[0], index_dict[0])\n",
    "bow_new_k2=create_bow_matrix(k2_new,word_set[1], index_dict[1])\n",
    "bow_new_k3=create_bow_matrix(k3_new,word_set[2], index_dict[2])\n",
    "\n",
    "red_bow_new_k1=pca(bow_new_k1)\n",
    "red_bow_new_k2=pca(bow_new_k2)\n",
    "red_bow_new_k3=pca(bow_new_k3)\n",
    "\n",
    "final_embeddings_new = combine_embeddings(red_bow_new_k1, red_bow_new_k2, red_bow_new_k3, method=\"cos\")\n",
    "normalized_new_embeddings=z_score_normalize(final_embeddings_new)\n",
    "print(normalized_new_embeddings)"
   ]
  },
  {
   "cell_type": "code",
   "execution_count": 72,
   "id": "039d1648-48dc-48ec-88d5-a90fad1a8acc",
   "metadata": {},
   "outputs": [
    {
     "name": "stdout",
     "output_type": "stream",
     "text": [
      "Keywords: ['piano', 'calm', 'slow']  Genre: country\n",
      "Keywords: ['guitar', 'emotional', 'distorted']  Genre: hip-hop\n",
      "Keywords: ['synth', 'mellow', 'distorted']  Genre: hip-hop\n"
     ]
    }
   ],
   "source": [
    "#predictions\n",
    "for i,data in enumerate(normalized_new_embeddings):\n",
    "    cluster_idx = closest_cluster(data, centroids)\n",
    "    print(f\"Keywords: {new_songs[i]}  Genre: {cluster_to_genre[cluster_idx]}\")"
   ]
  },
  {
   "cell_type": "markdown",
   "id": "643b81a3-54c1-4333-acb8-6b8f3625202f",
   "metadata": {},
   "source": [
    "Bonus"
   ]
  },
  {
   "cell_type": "markdown",
   "id": "a26f27f5-b320-48f8-a02d-b94df44491cd",
   "metadata": {},
   "source": [
    "Giving the final embeddings of traning data as input for prediction and comparing with the true labels and keeping count of no. of correct predictions"
   ]
  },
  {
   "cell_type": "code",
   "execution_count": 73,
   "id": "a0c19c38-2b1f-4d62-86eb-ffbe8026546d",
   "metadata": {},
   "outputs": [
    {
     "name": "stdout",
     "output_type": "stream",
     "text": [
      "30.6122%\n"
     ]
    }
   ],
   "source": [
    "correct=0\n",
    "for i in range(len(normalized_data)):\n",
    "    cluster_idx = closest_cluster(normalized_data[i], centroids)\n",
    "    if cluster_to_genre[cluster_idx]==true_genres[i]:\n",
    "        correct+=1\n",
    "print(f\"{(correct * 100 / len(normalized_data)):.4f}%\")"
   ]
  },
  {
   "cell_type": "code",
   "execution_count": null,
   "id": "f8207d6b-03e5-4113-b004-15139ddb186a",
   "metadata": {},
   "outputs": [],
   "source": []
  }
 ],
 "metadata": {
  "kernelspec": {
   "display_name": "Python 3 (ipykernel)",
   "language": "python",
   "name": "python3"
  },
  "language_info": {
   "codemirror_mode": {
    "name": "ipython",
    "version": 3
   },
   "file_extension": ".py",
   "mimetype": "text/x-python",
   "name": "python",
   "nbconvert_exporter": "python",
   "pygments_lexer": "ipython3",
   "version": "3.12.9"
  }
 },
 "nbformat": 4,
 "nbformat_minor": 5
}
